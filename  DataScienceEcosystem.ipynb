{
 "cells": [
  {
   "cell_type": "code",
   "execution_count": 1,
   "id": "4c371f69",
   "metadata": {},
   "outputs": [],
   "source": [
    "#1. Exercise 1: Create a Jupyter Notebook\n"
   ]
  },
  {
   "cell_type": "code",
   "execution_count": 2,
   "id": "52b32efe",
   "metadata": {},
   "outputs": [],
   "source": [
    "#2. Exercise 2: Create markdown cell with title of the notebook\n",
    "\n"
   ]
  },
  {
   "cell_type": "markdown",
   "id": "7ccd467a",
   "metadata": {},
   "source": [
    "#  Data Science Tools and Ecosystem"
   ]
  },
  {
   "cell_type": "code",
   "execution_count": 3,
   "id": "f69113ea",
   "metadata": {},
   "outputs": [],
   "source": [
    "#3. Exercise 3 - Create a markdown cell for an introduction and # Exercise 10 - Insert a markdown cell to list Objectives"
   ]
  },
  {
   "cell_type": "markdown",
   "id": "0f7085d0",
   "metadata": {},
   "source": [
    "The notebook:DataScienceEcosystem.ipynb summarizes Data Science Tools and Ecosystem\n",
    "\n",
    "  **Objectives:**\n",
    " - Categories of Data science tools.\n",
    " - Languages of Data science tools.\n",
    " - Libraries of API's, Dataset and Modules.\n",
    " - Jupyter Project\n",
    " - Rstudio and GitHub\n",
    " - IBM tools for datascience."
   ]
  },
  {
   "cell_type": "code",
   "execution_count": null,
   "id": "4c2b4022",
   "metadata": {},
   "outputs": [],
   "source": []
  },
  {
   "cell_type": "code",
   "execution_count": 4,
   "id": "5bd885cf",
   "metadata": {},
   "outputs": [],
   "source": [
    "#4. Exercise 4 - Create a markdown cell to list data science languages"
   ]
  },
  {
   "cell_type": "markdown",
   "id": "63eb3c66",
   "metadata": {},
   "source": [
    "Some of the popular languages that Data Scientists use are:\n",
    "1. Python\n",
    "2. R\n",
    "3. SQL\n",
    "4. Scala\n",
    "5. Java\n",
    "6. C++\n",
    "7. Julia\n",
    "8. Javascript\n",
    "9. PHP\n",
    "10. Go\n",
    "11. Ruby\n",
    "12. Visual basic"
   ]
  },
  {
   "cell_type": "code",
   "execution_count": null,
   "id": "b47d0ee1",
   "metadata": {},
   "outputs": [],
   "source": [
    "# Exercise 5 - Create a markdown cell to list data science libraries"
   ]
  },
  {
   "cell_type": "markdown",
   "id": "146ce229",
   "metadata": {},
   "source": [
    "Libraries are collection of function and methods that allows you to perform many actions without using the code.\n",
    "commonly used libraries used by Data Scientists include:\n",
    "A- Python libraries are:\n",
    "1. Pandas\n",
    "2. Numpy\n",
    "3. Matplotlib\n",
    "4. Seaborn\n",
    "5. Scikit learn\n",
    "6. keras\n",
    "7. TensorFlow\n",
    "8. PyTorch\n",
    "B- Other Languages libraries are:\n",
    "1. Apache spark\n",
    "2. Scala libraries\n",
    "3. Vegas\n",
    "4. Big DL\n",
    "C- R libraries are:\n",
    "1. gg plot\n",
    "2. dplyr\n",
    "3. stringR\n",
    "4. caret\n",
    "5. plotly\n",
    "\n"
   ]
  },
  {
   "cell_type": "code",
   "execution_count": 5,
   "id": "b1cb90df",
   "metadata": {},
   "outputs": [],
   "source": [
    "# Exercise 6 - Create a markdown cell with a table of Data Science tools"
   ]
  },
  {
   "cell_type": "markdown",
   "id": "4e9770c6",
   "metadata": {},
   "source": [
    "Most famous   three development environment open source tools used in data science are:\n",
    "\n",
    "|Data Science Tools|\n",
    "|------------------|\n",
    "|Jupyter|\n",
    "|R-studio|\n",
    "|Appache Zeppelin|\n"
   ]
  },
  {
   "cell_type": "code",
   "execution_count": null,
   "id": "4135c195",
   "metadata": {},
   "outputs": [],
   "source": [
    "# Exercise 7 - Create a markdown cell introducing arithmetic expression examples"
   ]
  },
  {
   "cell_type": "markdown",
   "id": "f963a61c",
   "metadata": {},
   "source": [
    "### Below are a few examples of evaluating arithmetic expressions in Python\n",
    "an arthimetic expression is an expression built up using numbers , arithmetic operators such as '+','x','-','/' and parentheses\n",
    "\n",
    "example: \n",
    "(2+3) evalutes to 5  and  \n",
    "\n",
    "(7-3) evalutes to 4 "
   ]
  },
  {
   "cell_type": "code",
   "execution_count": null,
   "id": "d269226b",
   "metadata": {},
   "outputs": [],
   "source": [
    "# Exercise 8 - Create a code cell to multiply and add numbers"
   ]
  },
  {
   "cell_type": "code",
   "execution_count": 6,
   "id": "ba5aca4d",
   "metadata": {},
   "outputs": [
    {
     "data": {
      "text/plain": [
       "17"
      ]
     },
     "execution_count": 6,
     "metadata": {},
     "output_type": "execute_result"
    }
   ],
   "source": [
    "# This a simple arithmetic expression to mutiply then add integers\n",
    "(3*4)+5"
   ]
  },
  {
   "cell_type": "code",
   "execution_count": null,
   "id": "57e47509",
   "metadata": {},
   "outputs": [],
   "source": [
    "# Exercise 9 - Create a code cell to convert minutes to hours"
   ]
  },
  {
   "cell_type": "code",
   "execution_count": 11,
   "id": "f9b1d778",
   "metadata": {},
   "outputs": [
    {
     "data": {
      "text/plain": [
       "3.3333333333333335"
      ]
     },
     "execution_count": 11,
     "metadata": {},
     "output_type": "execute_result"
    }
   ],
   "source": [
    "# This will convert 200 minutes to hours by diving by 60\n",
    "(200/60)\n"
   ]
  },
  {
   "cell_type": "code",
   "execution_count": null,
   "id": "7e5e4265",
   "metadata": {},
   "outputs": [],
   "source": [
    "#  Exercise 9 - Create a code cell to convert minutes to hours"
   ]
  },
  {
   "cell_type": "code",
   "execution_count": 10,
   "id": "8f8ed09d",
   "metadata": {},
   "outputs": [
    {
     "name": "stdout",
     "output_type": "stream",
     "text": [
      "enter Minutes: 200\n",
      "Hour:Minute: 3 : 20\n"
     ]
    }
   ],
   "source": [
    "# This will convert 200 minutes to hours by diving by 60\n",
    "min=int(input(\"enter Minutes: \"))\n",
    "print(\"Hour:Minute:\",int(min/60),\":\",min%60)"
   ]
  },
  {
   "cell_type": "code",
   "execution_count": null,
   "id": "beebb857",
   "metadata": {},
   "outputs": [],
   "source": [
    "# Exercise 10 - Insert a markdown cell to list Objectives"
   ]
  },
  {
   "cell_type": "code",
   "execution_count": null,
   "id": "ac71deb0",
   "metadata": {},
   "outputs": [],
   "source": [
    "# Exercise 11 - Create a markdown cell to indicate the Author's name"
   ]
  },
  {
   "cell_type": "markdown",
   "id": "a29247e2",
   "metadata": {},
   "source": [
    "## Author\n",
    " Anila S"
   ]
  },
  {
   "cell_type": "code",
   "execution_count": null,
   "id": "1a78d064",
   "metadata": {},
   "outputs": [],
   "source": []
  },
  {
   "cell_type": "code",
   "execution_count": null,
   "id": "0e79fb09",
   "metadata": {},
   "outputs": [],
   "source": []
  }
 ],
 "metadata": {
  "kernelspec": {
   "display_name": "Python 3 (ipykernel)",
   "language": "python",
   "name": "python3"
  },
  "language_info": {
   "codemirror_mode": {
    "name": "ipython",
    "version": 3
   },
   "file_extension": ".py",
   "mimetype": "text/x-python",
   "name": "python",
   "nbconvert_exporter": "python",
   "pygments_lexer": "ipython3",
   "version": "3.9.12"
  }
 },
 "nbformat": 4,
 "nbformat_minor": 5
}
